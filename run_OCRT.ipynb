{
 "cells": [
  {
   "cell_type": "markdown",
   "metadata": {},
   "source": [
    "Choose a sample to run. `sample_id` can be one of:\n",
    "- mouse_vas_deferens1\n",
    "- mouse_vas_deferens2\n",
    "- mouse_femoral_artery\n",
    "- mouse_bladder\n",
    "- mouse_trachea\n",
    "- human_cornea\n",
    "- insect_leg"
   ]
  },
  {
   "cell_type": "code",
   "execution_count": 1,
   "metadata": {},
   "outputs": [],
   "source": [
    "sample_id = 'mouse_bladder'  # a string that denotes which data to run\n",
    "data_directory = 'data/'  # where is the OCRT input data located?\n",
    "save_directory = 'saved_models_and_variables/'  # where to save the tf graph after optimization"
   ]
  },
  {
   "cell_type": "markdown",
   "metadata": {},
   "source": [
    "# Registration of multiangle B-scans and synthesis of refractive index map\n",
    "The registration metric is optimized with respect to the deformation model, which in this case is ray propagation through a spatially inhomogeneous refractive index map."
   ]
  },
  {
   "cell_type": "code",
   "execution_count": 2,
   "metadata": {},
   "outputs": [],
   "source": [
    "from __future__ import print_function, division\n",
    "from OCRT import OCRT2D\n",
    "import tensorflow as tf\n",
    "import matplotlib.pyplot as plt\n",
    "import numpy as np\n",
    "from time import time\n",
    "%matplotlib inline\n",
    "\n",
    "a = OCRT2D(sample_id=sample_id,save_directory=save_directory)"
   ]
  },
  {
   "cell_type": "code",
   "execution_count": 3,
   "metadata": {},
   "outputs": [],
   "source": [
    "# adjust some parameters, depending on the sample:\n",
    "if sample_id in ['mouse_bladder', 'mouse_femoral_artery', 'mouse_trachea', 'mouse_vas_deferens1']:\n",
    "    num_iter = 200\n",
    "elif sample_id in ['mouse_vas_deferens2']:\n",
    "    num_iter = 300\n",
    "elif sample_id in ['insect_leg']:\n",
    "    num_iter = 500\n",
    "elif sample_id in ['human_cornea']:\n",
    "    num_iter = 500\n",
    "    # this sample is more difficult to register, so use a multiresolution approach:\n",
    "    a.use_multires = True\n",
    "    a.size_factor_ = 1  # the final size_factor_ is 8\n",
    "    a.switch_iter = 250\n",
    "else:\n",
    "    raise Exception('invalid sample_id: ' + sample_id)\n",
    "    \n",
    "# two tube sizes were used (same inner diameter, but different outer diameter):\n",
    "if sample_id in ['mouse_vas_deferens1', 'mouse_vas_deferens2', 'mouse_trachea']:\n",
    "    a.tube_diameter = 1.066  # in mm\n",
    "else:\n",
    "    a.tube_diameter = 1.108516"
   ]
  },
  {
   "cell_type": "code",
   "execution_count": 4,
   "metadata": {},
   "outputs": [
    {
     "name": "stdout",
     "output_type": "stream",
     "text": [
      "data loaded: 10.488995552062988 sec\n"
     ]
    },
    {
     "ename": "AttributeError",
     "evalue": "module 'tensorflow._api.v1.config' has no attribute 'list_physical_devices'",
     "output_type": "error",
     "traceback": [
      "\u001b[1;31m---------------------------------------------------------------------------\u001b[0m",
      "\u001b[1;31mAttributeError\u001b[0m                            Traceback (most recent call last)",
      "\u001b[1;32m~\\AppData\\Local\\Temp\\ipykernel_6900\\4203457682.py\u001b[0m in \u001b[0;36m<module>\u001b[1;34m\u001b[0m\n\u001b[0;32m      1\u001b[0m \u001b[0ma\u001b[0m\u001b[1;33m.\u001b[0m\u001b[0mload_data_and_resolve_constants\u001b[0m\u001b[1;33m(\u001b[0m\u001b[0mdata_directory\u001b[0m\u001b[1;33m=\u001b[0m\u001b[0mdata_directory\u001b[0m\u001b[1;33m)\u001b[0m\u001b[1;33m\u001b[0m\u001b[1;33m\u001b[0m\u001b[0m\n\u001b[1;32m----> 2\u001b[1;33m \u001b[0ma\u001b[0m\u001b[1;33m.\u001b[0m\u001b[0mbuild_graph\u001b[0m\u001b[1;33m(\u001b[0m\u001b[1;33m)\u001b[0m\u001b[1;33m\u001b[0m\u001b[1;33m\u001b[0m\u001b[0m\n\u001b[0m",
      "\u001b[1;32mc:\\Users\\alexa\\Desktop\\University\\LINUM\\optical-coherence-refraction-tomography\\OCRT.py\u001b[0m in \u001b[0;36mbuild_graph\u001b[1;34m(self, intra, inter)\u001b[0m\n\u001b[0;32m    289\u001b[0m \u001b[1;33m\u001b[0m\u001b[0m\n\u001b[0;32m    290\u001b[0m         \u001b[1;32mif\u001b[0m \u001b[0mself\u001b[0m\u001b[1;33m.\u001b[0m\u001b[0muse_gpu\u001b[0m\u001b[1;33m:\u001b[0m\u001b[1;33m\u001b[0m\u001b[1;33m\u001b[0m\u001b[0m\n\u001b[1;32m--> 291\u001b[1;33m             \u001b[0mprint\u001b[0m\u001b[1;33m(\u001b[0m\u001b[1;34m\"Num GPUs Available: \"\u001b[0m\u001b[1;33m,\u001b[0m \u001b[0mlen\u001b[0m\u001b[1;33m(\u001b[0m\u001b[0mtf\u001b[0m\u001b[1;33m.\u001b[0m\u001b[0mconfig\u001b[0m\u001b[1;33m.\u001b[0m\u001b[0mlist_physical_devices\u001b[0m\u001b[1;33m(\u001b[0m\u001b[1;34m'GPU'\u001b[0m\u001b[1;33m)\u001b[0m\u001b[1;33m)\u001b[0m\u001b[1;33m)\u001b[0m\u001b[1;33m\u001b[0m\u001b[1;33m\u001b[0m\u001b[0m\n\u001b[0m\u001b[0;32m    292\u001b[0m             \u001b[0mself\u001b[0m\u001b[1;33m.\u001b[0m\u001b[0msess\u001b[0m \u001b[1;33m=\u001b[0m \u001b[0mtf\u001b[0m\u001b[1;33m.\u001b[0m\u001b[0mInteractiveSession\u001b[0m\u001b[1;33m(\u001b[0m\u001b[1;33m)\u001b[0m\u001b[1;33m\u001b[0m\u001b[1;33m\u001b[0m\u001b[0m\n\u001b[0;32m    293\u001b[0m         \u001b[1;32melse\u001b[0m\u001b[1;33m:\u001b[0m\u001b[1;33m\u001b[0m\u001b[1;33m\u001b[0m\u001b[0m\n",
      "\u001b[1;32mc:\\Users\\alexa\\anaconda3\\envs\\env3.7\\lib\\site-packages\\tensorflow_core\\python\\util\\module_wrapper.py\u001b[0m in \u001b[0;36m__getattr__\u001b[1;34m(self, name)\u001b[0m\n\u001b[0;32m    191\u001b[0m   \u001b[1;32mdef\u001b[0m \u001b[0m__getattr__\u001b[0m\u001b[1;33m(\u001b[0m\u001b[0mself\u001b[0m\u001b[1;33m,\u001b[0m \u001b[0mname\u001b[0m\u001b[1;33m)\u001b[0m\u001b[1;33m:\u001b[0m\u001b[1;33m\u001b[0m\u001b[1;33m\u001b[0m\u001b[0m\n\u001b[0;32m    192\u001b[0m     \u001b[1;32mtry\u001b[0m\u001b[1;33m:\u001b[0m\u001b[1;33m\u001b[0m\u001b[1;33m\u001b[0m\u001b[0m\n\u001b[1;32m--> 193\u001b[1;33m       \u001b[0mattr\u001b[0m \u001b[1;33m=\u001b[0m \u001b[0mgetattr\u001b[0m\u001b[1;33m(\u001b[0m\u001b[0mself\u001b[0m\u001b[1;33m.\u001b[0m\u001b[0m_tfmw_wrapped_module\u001b[0m\u001b[1;33m,\u001b[0m \u001b[0mname\u001b[0m\u001b[1;33m)\u001b[0m\u001b[1;33m\u001b[0m\u001b[1;33m\u001b[0m\u001b[0m\n\u001b[0m\u001b[0;32m    194\u001b[0m     \u001b[1;32mexcept\u001b[0m \u001b[0mAttributeError\u001b[0m\u001b[1;33m:\u001b[0m\u001b[1;33m\u001b[0m\u001b[1;33m\u001b[0m\u001b[0m\n\u001b[0;32m    195\u001b[0m       \u001b[1;32mif\u001b[0m \u001b[1;32mnot\u001b[0m \u001b[0mself\u001b[0m\u001b[1;33m.\u001b[0m\u001b[0m_tfmw_public_apis\u001b[0m\u001b[1;33m:\u001b[0m\u001b[1;33m\u001b[0m\u001b[1;33m\u001b[0m\u001b[0m\n",
      "\u001b[1;31mAttributeError\u001b[0m: module 'tensorflow._api.v1.config' has no attribute 'list_physical_devices'"
     ]
    }
   ],
   "source": [
    "a.load_data_and_resolve_constants(data_directory=data_directory)\n",
    "a.build_graph()"
   ]
  },
  {
   "cell_type": "code",
   "execution_count": null,
   "metadata": {
    "scrolled": true
   },
   "outputs": [
    {
     "ename": "InternalError",
     "evalue": "2 root error(s) found.\n  (0) Internal: Blas xGEMMBatched launch failed : a.shape=[60,36,2], b.shape=[60,2,2], m=36, n=2, k=2, batch_size=60\n\t [[node ray_propagation/scan/while/MatMul (defined at c:\\Users\\alexa\\anaconda3\\envs\\env3.7\\lib\\site-packages\\tensorflow_core\\python\\framework\\ops.py:1748) ]]\n\t [[backprojection/Unique/_63]]\n  (1) Internal: Blas xGEMMBatched launch failed : a.shape=[60,36,2], b.shape=[60,2,2], m=36, n=2, k=2, batch_size=60\n\t [[node ray_propagation/scan/while/MatMul (defined at c:\\Users\\alexa\\anaconda3\\envs\\env3.7\\lib\\site-packages\\tensorflow_core\\python\\framework\\ops.py:1748) ]]\n0 successful operations.\n0 derived errors ignored.\n\nOriginal stack trace for 'ray_propagation/scan/while/MatMul':\n  File \"c:\\Users\\alexa\\anaconda3\\envs\\env3.7\\lib\\runpy.py\", line 193, in _run_module_as_main\n    \"__main__\", mod_spec)\n  File \"c:\\Users\\alexa\\anaconda3\\envs\\env3.7\\lib\\runpy.py\", line 85, in _run_code\n    exec(code, run_globals)\n  File \"c:\\Users\\alexa\\anaconda3\\envs\\env3.7\\lib\\site-packages\\ipykernel_launcher.py\", line 17, in <module>\n    app.launch_new_instance()\n  File \"c:\\Users\\alexa\\anaconda3\\envs\\env3.7\\lib\\site-packages\\traitlets\\config\\application.py\", line 992, in launch_instance\n    app.start()\n  File \"c:\\Users\\alexa\\anaconda3\\envs\\env3.7\\lib\\site-packages\\ipykernel\\kernelapp.py\", line 712, in start\n    self.io_loop.start()\n  File \"c:\\Users\\alexa\\anaconda3\\envs\\env3.7\\lib\\site-packages\\tornado\\platform\\asyncio.py\", line 215, in start\n    self.asyncio_loop.run_forever()\n  File \"c:\\Users\\alexa\\anaconda3\\envs\\env3.7\\lib\\asyncio\\base_events.py\", line 541, in run_forever\n    self._run_once()\n  File \"c:\\Users\\alexa\\anaconda3\\envs\\env3.7\\lib\\asyncio\\base_events.py\", line 1786, in _run_once\n    handle._run()\n  File \"c:\\Users\\alexa\\anaconda3\\envs\\env3.7\\lib\\asyncio\\events.py\", line 88, in _run\n    self._context.run(self._callback, *self._args)\n  File \"c:\\Users\\alexa\\anaconda3\\envs\\env3.7\\lib\\site-packages\\ipykernel\\kernelbase.py\", line 510, in dispatch_queue\n    await self.process_one()\n  File \"c:\\Users\\alexa\\anaconda3\\envs\\env3.7\\lib\\site-packages\\ipykernel\\kernelbase.py\", line 499, in process_one\n    await dispatch(*args)\n  File \"c:\\Users\\alexa\\anaconda3\\envs\\env3.7\\lib\\site-packages\\ipykernel\\kernelbase.py\", line 406, in dispatch_shell\n    await result\n  File \"c:\\Users\\alexa\\anaconda3\\envs\\env3.7\\lib\\site-packages\\ipykernel\\kernelbase.py\", line 730, in execute_request\n    reply_content = await reply_content\n  File \"c:\\Users\\alexa\\anaconda3\\envs\\env3.7\\lib\\site-packages\\ipykernel\\ipkernel.py\", line 390, in do_execute\n    res = shell.run_cell(code, store_history=store_history, silent=silent)\n  File \"c:\\Users\\alexa\\anaconda3\\envs\\env3.7\\lib\\site-packages\\ipykernel\\zmqshell.py\", line 528, in run_cell\n    return super().run_cell(*args, **kwargs)\n  File \"c:\\Users\\alexa\\anaconda3\\envs\\env3.7\\lib\\site-packages\\IPython\\core\\interactiveshell.py\", line 2915, in run_cell\n    raw_cell, store_history, silent, shell_futures)\n  File \"c:\\Users\\alexa\\anaconda3\\envs\\env3.7\\lib\\site-packages\\IPython\\core\\interactiveshell.py\", line 2960, in _run_cell\n    return runner(coro)\n  File \"c:\\Users\\alexa\\anaconda3\\envs\\env3.7\\lib\\site-packages\\IPython\\core\\async_helpers.py\", line 78, in _pseudo_sync_runner\n    coro.send(None)\n  File \"c:\\Users\\alexa\\anaconda3\\envs\\env3.7\\lib\\site-packages\\IPython\\core\\interactiveshell.py\", line 3186, in run_cell_async\n    interactivity=interactivity, compiler=compiler, result=result)\n  File \"c:\\Users\\alexa\\anaconda3\\envs\\env3.7\\lib\\site-packages\\IPython\\core\\interactiveshell.py\", line 3377, in run_ast_nodes\n    if (await self.run_code(code, result,  async_=asy)):\n  File \"c:\\Users\\alexa\\anaconda3\\envs\\env3.7\\lib\\site-packages\\IPython\\core\\interactiveshell.py\", line 3457, in run_code\n    exec(code_obj, self.user_global_ns, self.user_ns)\n  File \"C:\\Users\\alexa\\AppData\\Local\\Temp\\ipykernel_9924\\4203457682.py\", line 2, in <module>\n    a.build_graph()\n  File \"c:\\Users\\alexa\\Desktop\\University\\LINUM\\optical-coherence-refraction-tomography\\OCRT.py\", line 299, in build_graph\n    self.create_losses()\n  File \"c:\\Users\\alexa\\Desktop\\University\\LINUM\\optical-coherence-refraction-tomography\\OCRT.py\", line 425, in create_losses\n    return_derivs=True)\n  File \"c:\\Users\\alexa\\Desktop\\University\\LINUM\\optical-coherence-refraction-tomography\\OCRT.py\", line 714, in integrate_scan_opl\n    paths = tf.scan(self.rk4_step_opl, dummy, xz_init0, swap_memory=True)\n  File \"c:\\Users\\alexa\\anaconda3\\envs\\env3.7\\lib\\site-packages\\tensorflow_core\\python\\ops\\functional_ops.py\", line 508, in scan\n    maximum_iterations=n)\n  File \"c:\\Users\\alexa\\anaconda3\\envs\\env3.7\\lib\\site-packages\\tensorflow_core\\python\\ops\\control_flow_ops.py\", line 2753, in while_loop\n    return_same_structure)\n  File \"c:\\Users\\alexa\\anaconda3\\envs\\env3.7\\lib\\site-packages\\tensorflow_core\\python\\ops\\control_flow_ops.py\", line 2245, in BuildLoop\n    pred, body, original_loop_vars, loop_vars, shape_invariants)\n  File \"c:\\Users\\alexa\\anaconda3\\envs\\env3.7\\lib\\site-packages\\tensorflow_core\\python\\ops\\control_flow_ops.py\", line 2170, in _BuildLoop\n    body_result = body(*packed_vars_for_body)\n  File \"c:\\Users\\alexa\\anaconda3\\envs\\env3.7\\lib\\site-packages\\tensorflow_core\\python\\ops\\control_flow_ops.py\", line 2705, in <lambda>\n    body = lambda i, lv: (i + 1, orig_body(*lv))\n  File \"c:\\Users\\alexa\\anaconda3\\envs\\env3.7\\lib\\site-packages\\tensorflow_core\\python\\ops\\functional_ops.py\", line 485, in compute\n    a_out = fn(packed_a, packed_elems)\n  File \"c:\\Users\\alexa\\Desktop\\University\\LINUM\\optical-coherence-refraction-tomography\\OCRT.py\", line 682, in rk4_step_opl\n    (deriv, n) = self.rayeq_opl(z0, x0)\n  File \"c:\\Users\\alexa\\Desktop\\University\\LINUM\\optical-coherence-refraction-tomography\\OCRT.py\", line 668, in rayeq_opl\n    (n, dndx, dndz) = self.indexdist(x[:, :, 0], z)\n  File \"c:\\Users\\alexa\\Desktop\\University\\LINUM\\optical-coherence-refraction-tomography\\OCRT.py\", line 610, in indexdist\n    xzp = tf.matmul(xz, tf.transpose(self.rotmats, [0, 2, 1]))\n  File \"c:\\Users\\alexa\\anaconda3\\envs\\env3.7\\lib\\site-packages\\tensorflow_core\\python\\util\\dispatch.py\", line 180, in wrapper\n    return target(*args, **kwargs)\n  File \"c:\\Users\\alexa\\anaconda3\\envs\\env3.7\\lib\\site-packages\\tensorflow_core\\python\\ops\\math_ops.py\", line 2716, in matmul\n    return batch_mat_mul_fn(a, b, adj_x=adjoint_a, adj_y=adjoint_b, name=name)\n  File \"c:\\Users\\alexa\\anaconda3\\envs\\env3.7\\lib\\site-packages\\tensorflow_core\\python\\ops\\gen_math_ops.py\", line 1712, in batch_mat_mul_v2\n    \"BatchMatMulV2\", x=x, y=y, adj_x=adj_x, adj_y=adj_y, name=name)\n  File \"c:\\Users\\alexa\\anaconda3\\envs\\env3.7\\lib\\site-packages\\tensorflow_core\\python\\framework\\op_def_library.py\", line 794, in _apply_op_helper\n    op_def=op_def)\n  File \"c:\\Users\\alexa\\anaconda3\\envs\\env3.7\\lib\\site-packages\\tensorflow_core\\python\\util\\deprecation.py\", line 507, in new_func\n    return func(*args, **kwargs)\n  File \"c:\\Users\\alexa\\anaconda3\\envs\\env3.7\\lib\\site-packages\\tensorflow_core\\python\\framework\\ops.py\", line 3357, in create_op\n    attrs, op_def, compute_device)\n  File \"c:\\Users\\alexa\\anaconda3\\envs\\env3.7\\lib\\site-packages\\tensorflow_core\\python\\framework\\ops.py\", line 3426, in _create_op_internal\n    op_def=op_def)\n  File \"c:\\Users\\alexa\\anaconda3\\envs\\env3.7\\lib\\site-packages\\tensorflow_core\\python\\framework\\ops.py\", line 1748, in __init__\n    self._traceback = tf_stack.extract_stack()\n",
     "output_type": "error",
     "traceback": [
      "\u001b[1;31m---------------------------------------------------------------------------\u001b[0m",
      "\u001b[1;31mInternalError\u001b[0m                             Traceback (most recent call last)",
      "\u001b[1;32mc:\\Users\\alexa\\anaconda3\\envs\\env3.7\\lib\\site-packages\\tensorflow_core\\python\\client\\session.py\u001b[0m in \u001b[0;36m_do_call\u001b[1;34m(self, fn, *args)\u001b[0m\n\u001b[0;32m   1364\u001b[0m     \u001b[1;32mtry\u001b[0m\u001b[1;33m:\u001b[0m\u001b[1;33m\u001b[0m\u001b[1;33m\u001b[0m\u001b[0m\n\u001b[1;32m-> 1365\u001b[1;33m       \u001b[1;32mreturn\u001b[0m \u001b[0mfn\u001b[0m\u001b[1;33m(\u001b[0m\u001b[1;33m*\u001b[0m\u001b[0margs\u001b[0m\u001b[1;33m)\u001b[0m\u001b[1;33m\u001b[0m\u001b[1;33m\u001b[0m\u001b[0m\n\u001b[0m\u001b[0;32m   1366\u001b[0m     \u001b[1;32mexcept\u001b[0m \u001b[0merrors\u001b[0m\u001b[1;33m.\u001b[0m\u001b[0mOpError\u001b[0m \u001b[1;32mas\u001b[0m \u001b[0me\u001b[0m\u001b[1;33m:\u001b[0m\u001b[1;33m\u001b[0m\u001b[1;33m\u001b[0m\u001b[0m\n",
      "\u001b[1;32mc:\\Users\\alexa\\anaconda3\\envs\\env3.7\\lib\\site-packages\\tensorflow_core\\python\\client\\session.py\u001b[0m in \u001b[0;36m_run_fn\u001b[1;34m(feed_dict, fetch_list, target_list, options, run_metadata)\u001b[0m\n\u001b[0;32m   1349\u001b[0m       return self._call_tf_sessionrun(options, feed_dict, fetch_list,\n\u001b[1;32m-> 1350\u001b[1;33m                                       target_list, run_metadata)\n\u001b[0m\u001b[0;32m   1351\u001b[0m \u001b[1;33m\u001b[0m\u001b[0m\n",
      "\u001b[1;32mc:\\Users\\alexa\\anaconda3\\envs\\env3.7\\lib\\site-packages\\tensorflow_core\\python\\client\\session.py\u001b[0m in \u001b[0;36m_call_tf_sessionrun\u001b[1;34m(self, options, feed_dict, fetch_list, target_list, run_metadata)\u001b[0m\n\u001b[0;32m   1442\u001b[0m                                             \u001b[0mfetch_list\u001b[0m\u001b[1;33m,\u001b[0m \u001b[0mtarget_list\u001b[0m\u001b[1;33m,\u001b[0m\u001b[1;33m\u001b[0m\u001b[1;33m\u001b[0m\u001b[0m\n\u001b[1;32m-> 1443\u001b[1;33m                                             run_metadata)\n\u001b[0m\u001b[0;32m   1444\u001b[0m \u001b[1;33m\u001b[0m\u001b[0m\n",
      "\u001b[1;31mInternalError\u001b[0m: 2 root error(s) found.\n  (0) Internal: Blas xGEMMBatched launch failed : a.shape=[60,36,2], b.shape=[60,2,2], m=36, n=2, k=2, batch_size=60\n\t [[{{node ray_propagation/scan/while/MatMul}}]]\n\t [[backprojection/Unique/_63]]\n  (1) Internal: Blas xGEMMBatched launch failed : a.shape=[60,36,2], b.shape=[60,2,2], m=36, n=2, k=2, batch_size=60\n\t [[{{node ray_propagation/scan/while/MatMul}}]]\n0 successful operations.\n0 derived errors ignored.",
      "\nDuring handling of the above exception, another exception occurred:\n",
      "\u001b[1;31mInternalError\u001b[0m                             Traceback (most recent call last)",
      "\u001b[1;32m~\\AppData\\Local\\Temp\\ipykernel_9924\\3887160371.py\u001b[0m in \u001b[0;36m<module>\u001b[1;34m\u001b[0m\n\u001b[0;32m      9\u001b[0m \u001b[1;33m\u001b[0m\u001b[0m\n\u001b[0;32m     10\u001b[0m     \u001b[0mstart\u001b[0m \u001b[1;33m=\u001b[0m \u001b[0mtime\u001b[0m\u001b[1;33m(\u001b[0m\u001b[1;33m)\u001b[0m\u001b[1;33m\u001b[0m\u001b[1;33m\u001b[0m\u001b[0m\n\u001b[1;32m---> 11\u001b[1;33m     \u001b[0mloss_i\u001b[0m\u001b[1;33m,\u001b[0m \u001b[0m_\u001b[0m \u001b[1;33m=\u001b[0m \u001b[0ma\u001b[0m\u001b[1;33m.\u001b[0m\u001b[0msess\u001b[0m\u001b[1;33m.\u001b[0m\u001b[0mrun\u001b[0m\u001b[1;33m(\u001b[0m\u001b[1;33m[\u001b[0m\u001b[0ma\u001b[0m\u001b[1;33m.\u001b[0m\u001b[0mloss_terms\u001b[0m\u001b[1;33m,\u001b[0m \u001b[0ma\u001b[0m\u001b[1;33m.\u001b[0m\u001b[0mtrain_op\u001b[0m\u001b[1;33m]\u001b[0m\u001b[1;33m,\u001b[0m \u001b[0mfeed_dict\u001b[0m\u001b[1;33m=\u001b[0m\u001b[0mfeed_dict\u001b[0m\u001b[1;33m)\u001b[0m\u001b[1;33m\u001b[0m\u001b[1;33m\u001b[0m\u001b[0m\n\u001b[0m\u001b[0;32m     12\u001b[0m     \u001b[0mlosses\u001b[0m\u001b[1;33m.\u001b[0m\u001b[0mappend\u001b[0m\u001b[1;33m(\u001b[0m\u001b[0mloss_i\u001b[0m\u001b[1;33m)\u001b[0m\u001b[1;33m\u001b[0m\u001b[1;33m\u001b[0m\u001b[0m\n\u001b[0;32m     13\u001b[0m     \u001b[0mprint\u001b[0m\u001b[1;33m(\u001b[0m\u001b[0mi\u001b[0m\u001b[1;33m,\u001b[0m \u001b[0mloss_i\u001b[0m\u001b[1;33m,\u001b[0m \u001b[0mtime\u001b[0m\u001b[1;33m(\u001b[0m\u001b[1;33m)\u001b[0m\u001b[1;33m-\u001b[0m\u001b[0mstart\u001b[0m\u001b[1;33m)\u001b[0m\u001b[1;33m\u001b[0m\u001b[1;33m\u001b[0m\u001b[0m\n",
      "\u001b[1;32mc:\\Users\\alexa\\anaconda3\\envs\\env3.7\\lib\\site-packages\\tensorflow_core\\python\\client\\session.py\u001b[0m in \u001b[0;36mrun\u001b[1;34m(self, fetches, feed_dict, options, run_metadata)\u001b[0m\n\u001b[0;32m    954\u001b[0m     \u001b[1;32mtry\u001b[0m\u001b[1;33m:\u001b[0m\u001b[1;33m\u001b[0m\u001b[1;33m\u001b[0m\u001b[0m\n\u001b[0;32m    955\u001b[0m       result = self._run(None, fetches, feed_dict, options_ptr,\n\u001b[1;32m--> 956\u001b[1;33m                          run_metadata_ptr)\n\u001b[0m\u001b[0;32m    957\u001b[0m       \u001b[1;32mif\u001b[0m \u001b[0mrun_metadata\u001b[0m\u001b[1;33m:\u001b[0m\u001b[1;33m\u001b[0m\u001b[1;33m\u001b[0m\u001b[0m\n\u001b[0;32m    958\u001b[0m         \u001b[0mproto_data\u001b[0m \u001b[1;33m=\u001b[0m \u001b[0mtf_session\u001b[0m\u001b[1;33m.\u001b[0m\u001b[0mTF_GetBuffer\u001b[0m\u001b[1;33m(\u001b[0m\u001b[0mrun_metadata_ptr\u001b[0m\u001b[1;33m)\u001b[0m\u001b[1;33m\u001b[0m\u001b[1;33m\u001b[0m\u001b[0m\n",
      "\u001b[1;32mc:\\Users\\alexa\\anaconda3\\envs\\env3.7\\lib\\site-packages\\tensorflow_core\\python\\client\\session.py\u001b[0m in \u001b[0;36m_run\u001b[1;34m(self, handle, fetches, feed_dict, options, run_metadata)\u001b[0m\n\u001b[0;32m   1178\u001b[0m     \u001b[1;32mif\u001b[0m \u001b[0mfinal_fetches\u001b[0m \u001b[1;32mor\u001b[0m \u001b[0mfinal_targets\u001b[0m \u001b[1;32mor\u001b[0m \u001b[1;33m(\u001b[0m\u001b[0mhandle\u001b[0m \u001b[1;32mand\u001b[0m \u001b[0mfeed_dict_tensor\u001b[0m\u001b[1;33m)\u001b[0m\u001b[1;33m:\u001b[0m\u001b[1;33m\u001b[0m\u001b[1;33m\u001b[0m\u001b[0m\n\u001b[0;32m   1179\u001b[0m       results = self._do_run(handle, final_targets, final_fetches,\n\u001b[1;32m-> 1180\u001b[1;33m                              feed_dict_tensor, options, run_metadata)\n\u001b[0m\u001b[0;32m   1181\u001b[0m     \u001b[1;32melse\u001b[0m\u001b[1;33m:\u001b[0m\u001b[1;33m\u001b[0m\u001b[1;33m\u001b[0m\u001b[0m\n\u001b[0;32m   1182\u001b[0m       \u001b[0mresults\u001b[0m \u001b[1;33m=\u001b[0m \u001b[1;33m[\u001b[0m\u001b[1;33m]\u001b[0m\u001b[1;33m\u001b[0m\u001b[1;33m\u001b[0m\u001b[0m\n",
      "\u001b[1;32mc:\\Users\\alexa\\anaconda3\\envs\\env3.7\\lib\\site-packages\\tensorflow_core\\python\\client\\session.py\u001b[0m in \u001b[0;36m_do_run\u001b[1;34m(self, handle, target_list, fetch_list, feed_dict, options, run_metadata)\u001b[0m\n\u001b[0;32m   1357\u001b[0m     \u001b[1;32mif\u001b[0m \u001b[0mhandle\u001b[0m \u001b[1;32mis\u001b[0m \u001b[1;32mNone\u001b[0m\u001b[1;33m:\u001b[0m\u001b[1;33m\u001b[0m\u001b[1;33m\u001b[0m\u001b[0m\n\u001b[0;32m   1358\u001b[0m       return self._do_call(_run_fn, feeds, fetches, targets, options,\n\u001b[1;32m-> 1359\u001b[1;33m                            run_metadata)\n\u001b[0m\u001b[0;32m   1360\u001b[0m     \u001b[1;32melse\u001b[0m\u001b[1;33m:\u001b[0m\u001b[1;33m\u001b[0m\u001b[1;33m\u001b[0m\u001b[0m\n\u001b[0;32m   1361\u001b[0m       \u001b[1;32mreturn\u001b[0m \u001b[0mself\u001b[0m\u001b[1;33m.\u001b[0m\u001b[0m_do_call\u001b[0m\u001b[1;33m(\u001b[0m\u001b[0m_prun_fn\u001b[0m\u001b[1;33m,\u001b[0m \u001b[0mhandle\u001b[0m\u001b[1;33m,\u001b[0m \u001b[0mfeeds\u001b[0m\u001b[1;33m,\u001b[0m \u001b[0mfetches\u001b[0m\u001b[1;33m)\u001b[0m\u001b[1;33m\u001b[0m\u001b[1;33m\u001b[0m\u001b[0m\n",
      "\u001b[1;32mc:\\Users\\alexa\\anaconda3\\envs\\env3.7\\lib\\site-packages\\tensorflow_core\\python\\client\\session.py\u001b[0m in \u001b[0;36m_do_call\u001b[1;34m(self, fn, *args)\u001b[0m\n\u001b[0;32m   1382\u001b[0m                     \u001b[1;34m'\\nsession_config.graph_options.rewrite_options.'\u001b[0m\u001b[1;33m\u001b[0m\u001b[1;33m\u001b[0m\u001b[0m\n\u001b[0;32m   1383\u001b[0m                     'disable_meta_optimizer = True')\n\u001b[1;32m-> 1384\u001b[1;33m       \u001b[1;32mraise\u001b[0m \u001b[0mtype\u001b[0m\u001b[1;33m(\u001b[0m\u001b[0me\u001b[0m\u001b[1;33m)\u001b[0m\u001b[1;33m(\u001b[0m\u001b[0mnode_def\u001b[0m\u001b[1;33m,\u001b[0m \u001b[0mop\u001b[0m\u001b[1;33m,\u001b[0m \u001b[0mmessage\u001b[0m\u001b[1;33m)\u001b[0m\u001b[1;33m\u001b[0m\u001b[1;33m\u001b[0m\u001b[0m\n\u001b[0m\u001b[0;32m   1385\u001b[0m \u001b[1;33m\u001b[0m\u001b[0m\n\u001b[0;32m   1386\u001b[0m   \u001b[1;32mdef\u001b[0m \u001b[0m_extend_graph\u001b[0m\u001b[1;33m(\u001b[0m\u001b[0mself\u001b[0m\u001b[1;33m)\u001b[0m\u001b[1;33m:\u001b[0m\u001b[1;33m\u001b[0m\u001b[1;33m\u001b[0m\u001b[0m\n",
      "\u001b[1;31mInternalError\u001b[0m: 2 root error(s) found.\n  (0) Internal: Blas xGEMMBatched launch failed : a.shape=[60,36,2], b.shape=[60,2,2], m=36, n=2, k=2, batch_size=60\n\t [[node ray_propagation/scan/while/MatMul (defined at c:\\Users\\alexa\\anaconda3\\envs\\env3.7\\lib\\site-packages\\tensorflow_core\\python\\framework\\ops.py:1748) ]]\n\t [[backprojection/Unique/_63]]\n  (1) Internal: Blas xGEMMBatched launch failed : a.shape=[60,36,2], b.shape=[60,2,2], m=36, n=2, k=2, batch_size=60\n\t [[node ray_propagation/scan/while/MatMul (defined at c:\\Users\\alexa\\anaconda3\\envs\\env3.7\\lib\\site-packages\\tensorflow_core\\python\\framework\\ops.py:1748) ]]\n0 successful operations.\n0 derived errors ignored.\n\nOriginal stack trace for 'ray_propagation/scan/while/MatMul':\n  File \"c:\\Users\\alexa\\anaconda3\\envs\\env3.7\\lib\\runpy.py\", line 193, in _run_module_as_main\n    \"__main__\", mod_spec)\n  File \"c:\\Users\\alexa\\anaconda3\\envs\\env3.7\\lib\\runpy.py\", line 85, in _run_code\n    exec(code, run_globals)\n  File \"c:\\Users\\alexa\\anaconda3\\envs\\env3.7\\lib\\site-packages\\ipykernel_launcher.py\", line 17, in <module>\n    app.launch_new_instance()\n  File \"c:\\Users\\alexa\\anaconda3\\envs\\env3.7\\lib\\site-packages\\traitlets\\config\\application.py\", line 992, in launch_instance\n    app.start()\n  File \"c:\\Users\\alexa\\anaconda3\\envs\\env3.7\\lib\\site-packages\\ipykernel\\kernelapp.py\", line 712, in start\n    self.io_loop.start()\n  File \"c:\\Users\\alexa\\anaconda3\\envs\\env3.7\\lib\\site-packages\\tornado\\platform\\asyncio.py\", line 215, in start\n    self.asyncio_loop.run_forever()\n  File \"c:\\Users\\alexa\\anaconda3\\envs\\env3.7\\lib\\asyncio\\base_events.py\", line 541, in run_forever\n    self._run_once()\n  File \"c:\\Users\\alexa\\anaconda3\\envs\\env3.7\\lib\\asyncio\\base_events.py\", line 1786, in _run_once\n    handle._run()\n  File \"c:\\Users\\alexa\\anaconda3\\envs\\env3.7\\lib\\asyncio\\events.py\", line 88, in _run\n    self._context.run(self._callback, *self._args)\n  File \"c:\\Users\\alexa\\anaconda3\\envs\\env3.7\\lib\\site-packages\\ipykernel\\kernelbase.py\", line 510, in dispatch_queue\n    await self.process_one()\n  File \"c:\\Users\\alexa\\anaconda3\\envs\\env3.7\\lib\\site-packages\\ipykernel\\kernelbase.py\", line 499, in process_one\n    await dispatch(*args)\n  File \"c:\\Users\\alexa\\anaconda3\\envs\\env3.7\\lib\\site-packages\\ipykernel\\kernelbase.py\", line 406, in dispatch_shell\n    await result\n  File \"c:\\Users\\alexa\\anaconda3\\envs\\env3.7\\lib\\site-packages\\ipykernel\\kernelbase.py\", line 730, in execute_request\n    reply_content = await reply_content\n  File \"c:\\Users\\alexa\\anaconda3\\envs\\env3.7\\lib\\site-packages\\ipykernel\\ipkernel.py\", line 390, in do_execute\n    res = shell.run_cell(code, store_history=store_history, silent=silent)\n  File \"c:\\Users\\alexa\\anaconda3\\envs\\env3.7\\lib\\site-packages\\ipykernel\\zmqshell.py\", line 528, in run_cell\n    return super().run_cell(*args, **kwargs)\n  File \"c:\\Users\\alexa\\anaconda3\\envs\\env3.7\\lib\\site-packages\\IPython\\core\\interactiveshell.py\", line 2915, in run_cell\n    raw_cell, store_history, silent, shell_futures)\n  File \"c:\\Users\\alexa\\anaconda3\\envs\\env3.7\\lib\\site-packages\\IPython\\core\\interactiveshell.py\", line 2960, in _run_cell\n    return runner(coro)\n  File \"c:\\Users\\alexa\\anaconda3\\envs\\env3.7\\lib\\site-packages\\IPython\\core\\async_helpers.py\", line 78, in _pseudo_sync_runner\n    coro.send(None)\n  File \"c:\\Users\\alexa\\anaconda3\\envs\\env3.7\\lib\\site-packages\\IPython\\core\\interactiveshell.py\", line 3186, in run_cell_async\n    interactivity=interactivity, compiler=compiler, result=result)\n  File \"c:\\Users\\alexa\\anaconda3\\envs\\env3.7\\lib\\site-packages\\IPython\\core\\interactiveshell.py\", line 3377, in run_ast_nodes\n    if (await self.run_code(code, result,  async_=asy)):\n  File \"c:\\Users\\alexa\\anaconda3\\envs\\env3.7\\lib\\site-packages\\IPython\\core\\interactiveshell.py\", line 3457, in run_code\n    exec(code_obj, self.user_global_ns, self.user_ns)\n  File \"C:\\Users\\alexa\\AppData\\Local\\Temp\\ipykernel_9924\\4203457682.py\", line 2, in <module>\n    a.build_graph()\n  File \"c:\\Users\\alexa\\Desktop\\University\\LINUM\\optical-coherence-refraction-tomography\\OCRT.py\", line 299, in build_graph\n    self.create_losses()\n  File \"c:\\Users\\alexa\\Desktop\\University\\LINUM\\optical-coherence-refraction-tomography\\OCRT.py\", line 425, in create_losses\n    return_derivs=True)\n  File \"c:\\Users\\alexa\\Desktop\\University\\LINUM\\optical-coherence-refraction-tomography\\OCRT.py\", line 714, in integrate_scan_opl\n    paths = tf.scan(self.rk4_step_opl, dummy, xz_init0, swap_memory=True)\n  File \"c:\\Users\\alexa\\anaconda3\\envs\\env3.7\\lib\\site-packages\\tensorflow_core\\python\\ops\\functional_ops.py\", line 508, in scan\n    maximum_iterations=n)\n  File \"c:\\Users\\alexa\\anaconda3\\envs\\env3.7\\lib\\site-packages\\tensorflow_core\\python\\ops\\control_flow_ops.py\", line 2753, in while_loop\n    return_same_structure)\n  File \"c:\\Users\\alexa\\anaconda3\\envs\\env3.7\\lib\\site-packages\\tensorflow_core\\python\\ops\\control_flow_ops.py\", line 2245, in BuildLoop\n    pred, body, original_loop_vars, loop_vars, shape_invariants)\n  File \"c:\\Users\\alexa\\anaconda3\\envs\\env3.7\\lib\\site-packages\\tensorflow_core\\python\\ops\\control_flow_ops.py\", line 2170, in _BuildLoop\n    body_result = body(*packed_vars_for_body)\n  File \"c:\\Users\\alexa\\anaconda3\\envs\\env3.7\\lib\\site-packages\\tensorflow_core\\python\\ops\\control_flow_ops.py\", line 2705, in <lambda>\n    body = lambda i, lv: (i + 1, orig_body(*lv))\n  File \"c:\\Users\\alexa\\anaconda3\\envs\\env3.7\\lib\\site-packages\\tensorflow_core\\python\\ops\\functional_ops.py\", line 485, in compute\n    a_out = fn(packed_a, packed_elems)\n  File \"c:\\Users\\alexa\\Desktop\\University\\LINUM\\optical-coherence-refraction-tomography\\OCRT.py\", line 682, in rk4_step_opl\n    (deriv, n) = self.rayeq_opl(z0, x0)\n  File \"c:\\Users\\alexa\\Desktop\\University\\LINUM\\optical-coherence-refraction-tomography\\OCRT.py\", line 668, in rayeq_opl\n    (n, dndx, dndz) = self.indexdist(x[:, :, 0], z)\n  File \"c:\\Users\\alexa\\Desktop\\University\\LINUM\\optical-coherence-refraction-tomography\\OCRT.py\", line 610, in indexdist\n    xzp = tf.matmul(xz, tf.transpose(self.rotmats, [0, 2, 1]))\n  File \"c:\\Users\\alexa\\anaconda3\\envs\\env3.7\\lib\\site-packages\\tensorflow_core\\python\\util\\dispatch.py\", line 180, in wrapper\n    return target(*args, **kwargs)\n  File \"c:\\Users\\alexa\\anaconda3\\envs\\env3.7\\lib\\site-packages\\tensorflow_core\\python\\ops\\math_ops.py\", line 2716, in matmul\n    return batch_mat_mul_fn(a, b, adj_x=adjoint_a, adj_y=adjoint_b, name=name)\n  File \"c:\\Users\\alexa\\anaconda3\\envs\\env3.7\\lib\\site-packages\\tensorflow_core\\python\\ops\\gen_math_ops.py\", line 1712, in batch_mat_mul_v2\n    \"BatchMatMulV2\", x=x, y=y, adj_x=adj_x, adj_y=adj_y, name=name)\n  File \"c:\\Users\\alexa\\anaconda3\\envs\\env3.7\\lib\\site-packages\\tensorflow_core\\python\\framework\\op_def_library.py\", line 794, in _apply_op_helper\n    op_def=op_def)\n  File \"c:\\Users\\alexa\\anaconda3\\envs\\env3.7\\lib\\site-packages\\tensorflow_core\\python\\util\\deprecation.py\", line 507, in new_func\n    return func(*args, **kwargs)\n  File \"c:\\Users\\alexa\\anaconda3\\envs\\env3.7\\lib\\site-packages\\tensorflow_core\\python\\framework\\ops.py\", line 3357, in create_op\n    attrs, op_def, compute_device)\n  File \"c:\\Users\\alexa\\anaconda3\\envs\\env3.7\\lib\\site-packages\\tensorflow_core\\python\\framework\\ops.py\", line 3426, in _create_op_internal\n    op_def=op_def)\n  File \"c:\\Users\\alexa\\anaconda3\\envs\\env3.7\\lib\\site-packages\\tensorflow_core\\python\\framework\\ops.py\", line 1748, in __init__\n    self._traceback = tf_stack.extract_stack()\n"
     ]
    }
   ],
   "source": [
    "# run through optimization loop:\n",
    "losses = list()\n",
    "feed_dict = a.get_feed_dict()\n",
    "for i in range(num_iter + 1):\n",
    "    \n",
    "    # if using multires, change the pixel resolution of the reconstruction\n",
    "    if i == a.switch_iter and a.use_multires: \n",
    "        feed_dict[a.size_factor] = a.final_size_factor\n",
    "    \n",
    "    start = time()\n",
    "    loss_i, _ = a.sess.run([a.loss_terms, a.train_op], feed_dict=feed_dict)\n",
    "    losses.append(loss_i)\n",
    "    print(i, loss_i, time()-start)\n",
    "    # loss_i is a list of all the contributors to the scalar loss;\n",
    "    # (see a.loss_terms or a.loss_term_names for names of the regularization terms)\n",
    "    \n",
    "    # monitor results periodically:\n",
    "    if i % 10 == 0:\n",
    "        recon_i = a.sess.run(a.recon, feed_dict=feed_dict)\n",
    "        recon_i = recon_i.sum(2)  # only once slice along y contains nonzero values, because we are optimizing 2D\n",
    "        plt.figure(figsize=(10, 10))\n",
    "        plt.imshow(recon_i, cmap='gray_r')\n",
    "        plt.title('OCRT reconstruction')\n",
    "        plt.show()\n",
    "        \n",
    "        RI = a.sess.run(a.RI, feed_dict={a.xz_delta: np.zeros((60, 2))})  # remove xy_delta shifts\n",
    "        \n",
    "        plt.imshow(RI)\n",
    "        plt.title('refractive index map')\n",
    "        plt.colorbar()\n",
    "        plt.show()\n",
    "        \n",
    "        plt.plot(losses)\n",
    "        plt.legend(a.loss_term_names.eval())\n",
    "        plt.title('loss terms')\n",
    "        plt.show()"
   ]
  },
  {
   "cell_type": "code",
   "execution_count": null,
   "metadata": {},
   "outputs": [],
   "source": [
    "a.save_graph()  # this graph must be saved in order to run filter optimization below"
   ]
  },
  {
   "cell_type": "markdown",
   "metadata": {},
   "source": [
    "# Filter optimization after registration\n",
    "Freeze the registration/refractive index parameters and only optimize the 2D backprojection filter."
   ]
  },
  {
   "cell_type": "code",
   "execution_count": null,
   "metadata": {},
   "outputs": [],
   "source": [
    "# remove previous tf graph and variables:\n",
    "a.sess.close()\n",
    "tf.reset_default_graph()\n",
    "del a"
   ]
  },
  {
   "cell_type": "code",
   "execution_count": null,
   "metadata": {},
   "outputs": [],
   "source": [
    "# instantiate new object, this time for filter optimization\n",
    "a = OCRT2D(sample_id=sample_id,save_directory=save_directory)\n",
    "num_iter = 100\n",
    "a.infer_backprojection_filter = True\n",
    "a.use_spatial_shifts = False\n",
    "\n",
    "# as above, set the tube diameter depending on the sample:\n",
    "if sample_id in ['mouse_vas_deferens1', 'mouse_vas_deferens2', 'mouse_trachea']:\n",
    "    a.tube_diameter = 1.066\n",
    "else:\n",
    "    a.tube_diameter = 1.108516\n",
    "\n",
    "a.load_data_and_resolve_constants(data_directory=data_directory)\n",
    "a.build_graph()"
   ]
  },
  {
   "cell_type": "code",
   "execution_count": null,
   "metadata": {},
   "outputs": [],
   "source": [
    "losses = list()\n",
    "feed_dict = a.get_feed_dict()\n",
    "for i in range(num_iter + 1):\n",
    "    start = time()\n",
    "    loss_i, _ = a.sess.run([a.loss_terms, a.train_op], feed_dict=feed_dict)\n",
    "    losses.append(loss_i)\n",
    "    print(i, loss_i, time()-start)\n",
    "    \n",
    "    # monitor results periodically:\n",
    "    if i % 20 == 0:\n",
    "        recon_i = a.sess.run(a.recon, feed_dict=feed_dict)\n",
    "        recon_i = recon_i.sum(2)\n",
    "        plt.figure(figsize=(10, 10))\n",
    "        plt.imshow(recon_i, cmap='gray_r')\n",
    "        plt.title('OCRT reconstruction')\n",
    "        plt.show()\n",
    "        \n",
    "        plt.plot(losses)\n",
    "        plt.legend(a.loss_term_names.eval())\n",
    "        plt.title('loss terms')\n",
    "        plt.show()"
   ]
  },
  {
   "cell_type": "code",
   "execution_count": null,
   "metadata": {},
   "outputs": [],
   "source": [
    "# a.save_graph()  # this graph doesn't need to be saved"
   ]
  }
 ],
 "metadata": {
  "kernelspec": {
   "display_name": "Python 3 (ipykernel)",
   "language": "python",
   "name": "python3"
  },
  "language_info": {
   "codemirror_mode": {
    "name": "ipython",
    "version": 3
   },
   "file_extension": ".py",
   "mimetype": "text/x-python",
   "name": "python",
   "nbconvert_exporter": "python",
   "pygments_lexer": "ipython3",
   "version": "3.7.16"
  }
 },
 "nbformat": 4,
 "nbformat_minor": 2
}
